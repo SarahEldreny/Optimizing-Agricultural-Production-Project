{
  "nbformat": 4,
  "nbformat_minor": 0,
  "metadata": {
    "colab": {
      "provenance": [],
      "authorship_tag": "ABX9TyOoD7DLbPX2vgdY3K89BtQQ",
      "include_colab_link": true
    },
    "kernelspec": {
      "name": "python3",
      "display_name": "Python 3"
    },
    "language_info": {
      "name": "python"
    }
  },
  "cells": [
    {
      "cell_type": "markdown",
      "metadata": {
        "id": "view-in-github",
        "colab_type": "text"
      },
      "source": [
        "<a href=\"https://colab.research.google.com/github/SarahEldreny/Optimizing-Agricultural-Production-Project/blob/main/Optimizing_Agricultural_Production_Project.ipynb\" target=\"_parent\"><img src=\"https://colab.research.google.com/assets/colab-badge.svg\" alt=\"Open In Colab\"/></a>"
      ]
    },
    {
      "cell_type": "markdown",
      "source": [
        "# Optimizing-Agricultural-Production\n",
        "## Problem Statement -\n",
        "Building a Predictive Model so as to suggest the most suitable crops to grow based on the available climatic and soil conditions.\n",
        "\n",
        "## Goal -\n",
        "To achieve precision farming by optimizing the agricultural production.\n",
        "The project is intended on Precision Farming.\n",
        "\n",
        "➔ To Optimize Productivity\n",
        "\n",
        "➔ By Understanding requirements of climatic and soil conditions for crops.\n",
        "\n",
        "➔ Helps us to Cope up with weather unpredictability.\n",
        "\n",
        "## About The Dataset Used (data.csv) -\n",
        "The Dataset Consists of 22 Unique Crops such as Maize, Wheat, Mango, Watermelon, Mango etc.\n",
        "\n",
        "➔ The dataset consists of climatic conditions required to grow the crops.\n",
        "\n",
        "   ◆ Temperature, Humidity, Rainfall.\n",
        "\n",
        "➔ The dataset also consists of soil conditions required to grow the crops\n",
        "\n",
        "   ◆ N: The Ratio of Nitrogen Content in Soil.\n",
        "   \n",
        "   ◆ P: The Ratio of Phosphorus Content in Soil.\n",
        "   \n",
        "   ◆ K: The Ratio of Potassium Content in Soil.\n",
        "   \n",
        "   ◆ pH: pH of the Soil\n",
        "   \n",
        "   \n",
        "   ## Libraries Used In The Project - \n",
        "   \n",
        "● Numpy: Used for Mathematical Operations.\n",
        "\n",
        "● Pandas: Used for DataFrame Operations.\n",
        "\n",
        "● Seaborn and Matplotlib: Used for Data Visualizations.\n",
        "\n",
        "● Ipywidgets: Used for Interactive Analysis.\n",
        "\n",
        "● Sklearn: Used for Machine Learning Algorithms\n",
        "\n",
        "   ## Steps of the algorithms\n",
        "1- Understanding the Dataset.\n",
        "\n",
        "2- Understanding the Problem Statement.\n",
        "\n",
        "3- Performing Descriptive Statistics.\n",
        "\n",
        "4- Clustering Similar Crops.\n",
        "\n",
        "5- Visualizing the Hidden Patterns.\n",
        "\n",
        "6- Building a Machine Learning Classification Model.\n"
      ],
      "metadata": {
        "id": "o8j6Lbz6v6Hc"
      }
    },
    {
      "cell_type": "code",
      "execution_count": 4,
      "metadata": {
        "id": "DGAfaqaivxb-"
      },
      "outputs": [],
      "source": [
        "#Reading the Dataset.\n"
      ]
    },
    {
      "cell_type": "code",
      "source": [
        "#Checking the missing values"
      ],
      "metadata": {
        "id": "yjt-E4Db2Mei"
      },
      "execution_count": 2,
      "outputs": []
    },
    {
      "cell_type": "code",
      "source": [
        "#Checking the crops present"
      ],
      "metadata": {
        "id": "G1NE56UB2Qvy"
      },
      "execution_count": 3,
      "outputs": []
    },
    {
      "cell_type": "code",
      "source": [
        "#Checking average climatic and soil requirements"
      ],
      "metadata": {
        "id": "upk5e5XU2TkJ"
      },
      "execution_count": 5,
      "outputs": []
    },
    {
      "cell_type": "code",
      "source": [
        "#Checking the detailed statistics for each crop"
      ],
      "metadata": {
        "id": "n97GF1D32i_n"
      },
      "execution_count": 6,
      "outputs": []
    },
    {
      "cell_type": "code",
      "source": [
        "#Comparing Average requirement and conditions for each crop"
      ],
      "metadata": {
        "id": "5i7zMMyJ2pxn"
      },
      "execution_count": 7,
      "outputs": []
    },
    {
      "cell_type": "code",
      "source": [
        "#Checking the below and above Average Conditions"
      ],
      "metadata": {
        "id": "TdHS7gX53Mqu"
      },
      "execution_count": 8,
      "outputs": []
    },
    {
      "cell_type": "code",
      "source": [
        "#Checking distributiion for each crop"
      ],
      "metadata": {
        "id": "AfJapiyE3QRu"
      },
      "execution_count": 9,
      "outputs": []
    },
    {
      "cell_type": "code",
      "source": [
        "#Checking that crops those have unusual requirements"
      ],
      "metadata": {
        "id": "6sU2Xxas3SRA"
      },
      "execution_count": 10,
      "outputs": []
    },
    {
      "cell_type": "code",
      "source": [
        "#Checking which crop to be grown according to the season"
      ],
      "metadata": {
        "id": "8esMSlDw3Wbn"
      },
      "execution_count": 11,
      "outputs": []
    },
    {
      "cell_type": "code",
      "source": [
        "#Determining the optimum number of clusters within the Dataset"
      ],
      "metadata": {
        "id": "MDC5L24H3a2C"
      },
      "execution_count": 12,
      "outputs": []
    },
    {
      "cell_type": "code",
      "source": [
        "#Implementation of K Means algorithm to perform Clustering analysis"
      ],
      "metadata": {
        "id": "ggtVo_-L3jyT"
      },
      "execution_count": 13,
      "outputs": []
    },
    {
      "cell_type": "code",
      "source": [
        "#Splitting the Dataset for predictive modelling"
      ],
      "metadata": {
        "id": "84dXFwq43nCF"
      },
      "execution_count": 14,
      "outputs": []
    },
    {
      "cell_type": "code",
      "source": [
        "#Creating training and testing sets for results validation"
      ],
      "metadata": {
        "id": "iFDP4GfX3sj2"
      },
      "execution_count": 15,
      "outputs": []
    },
    {
      "cell_type": "code",
      "source": [
        "#Creating a Predictive Model"
      ],
      "metadata": {
        "id": "dXMYxMDU3uhN"
      },
      "execution_count": 16,
      "outputs": []
    },
    {
      "cell_type": "code",
      "source": [
        "#Evaluating the model performance"
      ],
      "metadata": {
        "id": "SxY_UW0x3woo"
      },
      "execution_count": 17,
      "outputs": []
    },
    {
      "cell_type": "code",
      "source": [
        "#Defining the classification Report"
      ],
      "metadata": {
        "id": "j_7pDtD73zbf"
      },
      "execution_count": 18,
      "outputs": []
    },
    {
      "cell_type": "code",
      "source": [
        "\n",
        "\n",
        "# print(\"The Suggested Crop for given climatic condition is :\",prediction)"
      ],
      "metadata": {
        "id": "gAwuhNuo4FtN"
      },
      "execution_count": 20,
      "outputs": []
    },
    {
      "cell_type": "code",
      "source": [],
      "metadata": {
        "id": "3v7RzdMK4NAI"
      },
      "execution_count": null,
      "outputs": []
    }
  ]
}