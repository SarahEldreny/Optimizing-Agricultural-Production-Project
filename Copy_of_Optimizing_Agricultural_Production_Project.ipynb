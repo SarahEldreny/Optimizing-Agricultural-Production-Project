{
  "nbformat": 4,
  "nbformat_minor": 0,
  "metadata": {
    "colab": {
      "provenance": [],
      "include_colab_link": true
    },
    "kernelspec": {
      "name": "python3",
      "display_name": "Python 3"
    },
    "language_info": {
      "name": "python"
    },
    "widgets": {
      "application/vnd.jupyter.widget-state+json": {
        "998be1f04e884b6bbb656fb023cc43d4": {
          "model_module": "@jupyter-widgets/controls",
          "model_name": "VBoxModel",
          "model_module_version": "1.5.0",
          "state": {
            "_dom_classes": [
              "widget-interact"
            ],
            "_model_module": "@jupyter-widgets/controls",
            "_model_module_version": "1.5.0",
            "_model_name": "VBoxModel",
            "_view_count": null,
            "_view_module": "@jupyter-widgets/controls",
            "_view_module_version": "1.5.0",
            "_view_name": "VBoxView",
            "box_style": "",
            "children": [
              "IPY_MODEL_a61cc48fea014b65bc2b29db5459cc54",
              "IPY_MODEL_fb0b52e889244b69869ac04946668949"
            ],
            "layout": "IPY_MODEL_fb5e8980f34f4741807d76aee97968cd"
          }
        },
        "a61cc48fea014b65bc2b29db5459cc54": {
          "model_module": "@jupyter-widgets/controls",
          "model_name": "DropdownModel",
          "model_module_version": "1.5.0",
          "state": {
            "_dom_classes": [],
            "_model_module": "@jupyter-widgets/controls",
            "_model_module_version": "1.5.0",
            "_model_name": "DropdownModel",
            "_options_labels": [
              "N",
              "P",
              "K",
              "temperature",
              "humidity",
              "ph",
              "rainfall"
            ],
            "_view_count": null,
            "_view_module": "@jupyter-widgets/controls",
            "_view_module_version": "1.5.0",
            "_view_name": "DropdownView",
            "description": "conditions",
            "description_tooltip": null,
            "disabled": false,
            "index": 3,
            "layout": "IPY_MODEL_aea66dd008dd405fab5023a30303b55e",
            "style": "IPY_MODEL_641399779f014b5e8f255357d27b913c"
          }
        },
        "fb0b52e889244b69869ac04946668949": {
          "model_module": "@jupyter-widgets/output",
          "model_name": "OutputModel",
          "model_module_version": "1.0.0",
          "state": {
            "_dom_classes": [],
            "_model_module": "@jupyter-widgets/output",
            "_model_module_version": "1.0.0",
            "_model_name": "OutputModel",
            "_view_count": null,
            "_view_module": "@jupyter-widgets/output",
            "_view_module_version": "1.0.0",
            "_view_name": "OutputView",
            "layout": "IPY_MODEL_212d35cf0885450ebe6c1052bf350a34",
            "msg_id": "",
            "outputs": [
              {
                "output_type": "stream",
                "name": "stdout",
                "text": [
                  "crops that required greater than average temperature\n",
                  "['rice' 'maize' 'pigeonpeas' 'mothbeans' 'mungbean' 'blackgram' 'lentil'\n",
                  " 'banana' 'mango' 'grapes' 'watermelon' 'muskmelon' 'orange' 'papaya'\n",
                  " 'coconut' 'cotton' 'jute' 'coffee']\n",
                  "crops that required less than average temperature\n",
                  "['rice' 'maize' 'chickpea' 'kidneybeans' 'pigeonpeas' 'mothbeans'\n",
                  " 'blackgram' 'lentil' 'pomegranate' 'banana' 'grapes' 'watermelon' 'apple'\n",
                  " 'orange' 'papaya' 'coconut' 'cotton' 'jute' 'coffee']\n"
                ]
              }
            ]
          }
        },
        "fb5e8980f34f4741807d76aee97968cd": {
          "model_module": "@jupyter-widgets/base",
          "model_name": "LayoutModel",
          "model_module_version": "1.2.0",
          "state": {
            "_model_module": "@jupyter-widgets/base",
            "_model_module_version": "1.2.0",
            "_model_name": "LayoutModel",
            "_view_count": null,
            "_view_module": "@jupyter-widgets/base",
            "_view_module_version": "1.2.0",
            "_view_name": "LayoutView",
            "align_content": null,
            "align_items": null,
            "align_self": null,
            "border": null,
            "bottom": null,
            "display": null,
            "flex": null,
            "flex_flow": null,
            "grid_area": null,
            "grid_auto_columns": null,
            "grid_auto_flow": null,
            "grid_auto_rows": null,
            "grid_column": null,
            "grid_gap": null,
            "grid_row": null,
            "grid_template_areas": null,
            "grid_template_columns": null,
            "grid_template_rows": null,
            "height": null,
            "justify_content": null,
            "justify_items": null,
            "left": null,
            "margin": null,
            "max_height": null,
            "max_width": null,
            "min_height": null,
            "min_width": null,
            "object_fit": null,
            "object_position": null,
            "order": null,
            "overflow": null,
            "overflow_x": null,
            "overflow_y": null,
            "padding": null,
            "right": null,
            "top": null,
            "visibility": null,
            "width": null
          }
        },
        "aea66dd008dd405fab5023a30303b55e": {
          "model_module": "@jupyter-widgets/base",
          "model_name": "LayoutModel",
          "model_module_version": "1.2.0",
          "state": {
            "_model_module": "@jupyter-widgets/base",
            "_model_module_version": "1.2.0",
            "_model_name": "LayoutModel",
            "_view_count": null,
            "_view_module": "@jupyter-widgets/base",
            "_view_module_version": "1.2.0",
            "_view_name": "LayoutView",
            "align_content": null,
            "align_items": null,
            "align_self": null,
            "border": null,
            "bottom": null,
            "display": null,
            "flex": null,
            "flex_flow": null,
            "grid_area": null,
            "grid_auto_columns": null,
            "grid_auto_flow": null,
            "grid_auto_rows": null,
            "grid_column": null,
            "grid_gap": null,
            "grid_row": null,
            "grid_template_areas": null,
            "grid_template_columns": null,
            "grid_template_rows": null,
            "height": null,
            "justify_content": null,
            "justify_items": null,
            "left": null,
            "margin": null,
            "max_height": null,
            "max_width": null,
            "min_height": null,
            "min_width": null,
            "object_fit": null,
            "object_position": null,
            "order": null,
            "overflow": null,
            "overflow_x": null,
            "overflow_y": null,
            "padding": null,
            "right": null,
            "top": null,
            "visibility": null,
            "width": null
          }
        },
        "641399779f014b5e8f255357d27b913c": {
          "model_module": "@jupyter-widgets/controls",
          "model_name": "DescriptionStyleModel",
          "model_module_version": "1.5.0",
          "state": {
            "_model_module": "@jupyter-widgets/controls",
            "_model_module_version": "1.5.0",
            "_model_name": "DescriptionStyleModel",
            "_view_count": null,
            "_view_module": "@jupyter-widgets/base",
            "_view_module_version": "1.2.0",
            "_view_name": "StyleView",
            "description_width": ""
          }
        },
        "212d35cf0885450ebe6c1052bf350a34": {
          "model_module": "@jupyter-widgets/base",
          "model_name": "LayoutModel",
          "model_module_version": "1.2.0",
          "state": {
            "_model_module": "@jupyter-widgets/base",
            "_model_module_version": "1.2.0",
            "_model_name": "LayoutModel",
            "_view_count": null,
            "_view_module": "@jupyter-widgets/base",
            "_view_module_version": "1.2.0",
            "_view_name": "LayoutView",
            "align_content": null,
            "align_items": null,
            "align_self": null,
            "border": null,
            "bottom": null,
            "display": null,
            "flex": null,
            "flex_flow": null,
            "grid_area": null,
            "grid_auto_columns": null,
            "grid_auto_flow": null,
            "grid_auto_rows": null,
            "grid_column": null,
            "grid_gap": null,
            "grid_row": null,
            "grid_template_areas": null,
            "grid_template_columns": null,
            "grid_template_rows": null,
            "height": null,
            "justify_content": null,
            "justify_items": null,
            "left": null,
            "margin": null,
            "max_height": null,
            "max_width": null,
            "min_height": null,
            "min_width": null,
            "object_fit": null,
            "object_position": null,
            "order": null,
            "overflow": null,
            "overflow_x": null,
            "overflow_y": null,
            "padding": null,
            "right": null,
            "top": null,
            "visibility": null,
            "width": null
          }
        },
        "ee04a4b8b50a41e790820d596410d282": {
          "model_module": "@jupyter-widgets/controls",
          "model_name": "VBoxModel",
          "model_module_version": "1.5.0",
          "state": {
            "_dom_classes": [
              "widget-interact"
            ],
            "_model_module": "@jupyter-widgets/controls",
            "_model_module_version": "1.5.0",
            "_model_name": "VBoxModel",
            "_view_count": null,
            "_view_module": "@jupyter-widgets/controls",
            "_view_module_version": "1.5.0",
            "_view_name": "VBoxView",
            "box_style": "",
            "children": [
              "IPY_MODEL_7faceb6052cf4a68bf4d9e3e9092248e",
              "IPY_MODEL_43aa998c482e47d19c43981af4f8b033"
            ],
            "layout": "IPY_MODEL_3997a3a2dd564e5b931b4ed5ed203537"
          }
        },
        "7faceb6052cf4a68bf4d9e3e9092248e": {
          "model_module": "@jupyter-widgets/controls",
          "model_name": "DropdownModel",
          "model_module_version": "1.5.0",
          "state": {
            "_dom_classes": [],
            "_model_module": "@jupyter-widgets/controls",
            "_model_module_version": "1.5.0",
            "_model_name": "DropdownModel",
            "_options_labels": [
              "N",
              "P",
              "K",
              "temperature",
              "humidity",
              "ph",
              "rainfall"
            ],
            "_view_count": null,
            "_view_module": "@jupyter-widgets/controls",
            "_view_module_version": "1.5.0",
            "_view_name": "DropdownView",
            "description": "conditions",
            "description_tooltip": null,
            "disabled": false,
            "index": 0,
            "layout": "IPY_MODEL_187f8428a2ce47eb9830a62d373122d3",
            "style": "IPY_MODEL_d3141fea1fa2470097cf469b6dacd49f"
          }
        },
        "43aa998c482e47d19c43981af4f8b033": {
          "model_module": "@jupyter-widgets/output",
          "model_name": "OutputModel",
          "model_module_version": "1.0.0",
          "state": {
            "_dom_classes": [],
            "_model_module": "@jupyter-widgets/output",
            "_model_module_version": "1.0.0",
            "_model_name": "OutputModel",
            "_view_count": null,
            "_view_module": "@jupyter-widgets/output",
            "_view_module_version": "1.0.0",
            "_view_name": "OutputView",
            "layout": "IPY_MODEL_67e76b2cb6464dceb92d11ed28f33e8d",
            "msg_id": "",
            "outputs": [
              {
                "output_type": "stream",
                "name": "stdout",
                "text": [
                  "79.89\n",
                  "77.76\n",
                  "40.09\n",
                  "20.75\n",
                  "20.73\n",
                  "21.44\n",
                  "20.99\n",
                  "40.02\n",
                  "18.77\n",
                  "18.87\n",
                  "100.23\n",
                  "20.07\n",
                  "23.18\n",
                  "99.42\n",
                  "100.32\n",
                  "20.8\n",
                  "19.58\n",
                  "49.88\n",
                  "21.98\n",
                  "117.77\n",
                  "78.4\n",
                  "101.2\n"
                ]
              }
            ]
          }
        },
        "3997a3a2dd564e5b931b4ed5ed203537": {
          "model_module": "@jupyter-widgets/base",
          "model_name": "LayoutModel",
          "model_module_version": "1.2.0",
          "state": {
            "_model_module": "@jupyter-widgets/base",
            "_model_module_version": "1.2.0",
            "_model_name": "LayoutModel",
            "_view_count": null,
            "_view_module": "@jupyter-widgets/base",
            "_view_module_version": "1.2.0",
            "_view_name": "LayoutView",
            "align_content": null,
            "align_items": null,
            "align_self": null,
            "border": null,
            "bottom": null,
            "display": null,
            "flex": null,
            "flex_flow": null,
            "grid_area": null,
            "grid_auto_columns": null,
            "grid_auto_flow": null,
            "grid_auto_rows": null,
            "grid_column": null,
            "grid_gap": null,
            "grid_row": null,
            "grid_template_areas": null,
            "grid_template_columns": null,
            "grid_template_rows": null,
            "height": null,
            "justify_content": null,
            "justify_items": null,
            "left": null,
            "margin": null,
            "max_height": null,
            "max_width": null,
            "min_height": null,
            "min_width": null,
            "object_fit": null,
            "object_position": null,
            "order": null,
            "overflow": null,
            "overflow_x": null,
            "overflow_y": null,
            "padding": null,
            "right": null,
            "top": null,
            "visibility": null,
            "width": null
          }
        },
        "187f8428a2ce47eb9830a62d373122d3": {
          "model_module": "@jupyter-widgets/base",
          "model_name": "LayoutModel",
          "model_module_version": "1.2.0",
          "state": {
            "_model_module": "@jupyter-widgets/base",
            "_model_module_version": "1.2.0",
            "_model_name": "LayoutModel",
            "_view_count": null,
            "_view_module": "@jupyter-widgets/base",
            "_view_module_version": "1.2.0",
            "_view_name": "LayoutView",
            "align_content": null,
            "align_items": null,
            "align_self": null,
            "border": null,
            "bottom": null,
            "display": null,
            "flex": null,
            "flex_flow": null,
            "grid_area": null,
            "grid_auto_columns": null,
            "grid_auto_flow": null,
            "grid_auto_rows": null,
            "grid_column": null,
            "grid_gap": null,
            "grid_row": null,
            "grid_template_areas": null,
            "grid_template_columns": null,
            "grid_template_rows": null,
            "height": null,
            "justify_content": null,
            "justify_items": null,
            "left": null,
            "margin": null,
            "max_height": null,
            "max_width": null,
            "min_height": null,
            "min_width": null,
            "object_fit": null,
            "object_position": null,
            "order": null,
            "overflow": null,
            "overflow_x": null,
            "overflow_y": null,
            "padding": null,
            "right": null,
            "top": null,
            "visibility": null,
            "width": null
          }
        },
        "d3141fea1fa2470097cf469b6dacd49f": {
          "model_module": "@jupyter-widgets/controls",
          "model_name": "DescriptionStyleModel",
          "model_module_version": "1.5.0",
          "state": {
            "_model_module": "@jupyter-widgets/controls",
            "_model_module_version": "1.5.0",
            "_model_name": "DescriptionStyleModel",
            "_view_count": null,
            "_view_module": "@jupyter-widgets/base",
            "_view_module_version": "1.2.0",
            "_view_name": "StyleView",
            "description_width": ""
          }
        },
        "67e76b2cb6464dceb92d11ed28f33e8d": {
          "model_module": "@jupyter-widgets/base",
          "model_name": "LayoutModel",
          "model_module_version": "1.2.0",
          "state": {
            "_model_module": "@jupyter-widgets/base",
            "_model_module_version": "1.2.0",
            "_model_name": "LayoutModel",
            "_view_count": null,
            "_view_module": "@jupyter-widgets/base",
            "_view_module_version": "1.2.0",
            "_view_name": "LayoutView",
            "align_content": null,
            "align_items": null,
            "align_self": null,
            "border": null,
            "bottom": null,
            "display": null,
            "flex": null,
            "flex_flow": null,
            "grid_area": null,
            "grid_auto_columns": null,
            "grid_auto_flow": null,
            "grid_auto_rows": null,
            "grid_column": null,
            "grid_gap": null,
            "grid_row": null,
            "grid_template_areas": null,
            "grid_template_columns": null,
            "grid_template_rows": null,
            "height": null,
            "justify_content": null,
            "justify_items": null,
            "left": null,
            "margin": null,
            "max_height": null,
            "max_width": null,
            "min_height": null,
            "min_width": null,
            "object_fit": null,
            "object_position": null,
            "order": null,
            "overflow": null,
            "overflow_x": null,
            "overflow_y": null,
            "padding": null,
            "right": null,
            "top": null,
            "visibility": null,
            "width": null
          }
        },
        "ba448dedef424e359858ba8257643563": {
          "model_module": "@jupyter-widgets/controls",
          "model_name": "VBoxModel",
          "model_module_version": "1.5.0",
          "state": {
            "_dom_classes": [
              "widget-interact"
            ],
            "_model_module": "@jupyter-widgets/controls",
            "_model_module_version": "1.5.0",
            "_model_name": "VBoxModel",
            "_view_count": null,
            "_view_module": "@jupyter-widgets/controls",
            "_view_module_version": "1.5.0",
            "_view_name": "VBoxView",
            "box_style": "",
            "children": [
              "IPY_MODEL_fec1834c3e72444d9c34dd2678062d70",
              "IPY_MODEL_a99013a34ea44abdbb7733136fc252e4"
            ],
            "layout": "IPY_MODEL_5fdaf828504241578d79ce19c5f9dd22"
          }
        },
        "fec1834c3e72444d9c34dd2678062d70": {
          "model_module": "@jupyter-widgets/controls",
          "model_name": "DropdownModel",
          "model_module_version": "1.5.0",
          "state": {
            "_dom_classes": [],
            "_model_module": "@jupyter-widgets/controls",
            "_model_module_version": "1.5.0",
            "_model_name": "DropdownModel",
            "_options_labels": [
              "N",
              "P",
              "K",
              "temperature",
              "humidity",
              "ph",
              "rainfall"
            ],
            "_view_count": null,
            "_view_module": "@jupyter-widgets/controls",
            "_view_module_version": "1.5.0",
            "_view_name": "DropdownView",
            "description": "conditions",
            "description_tooltip": null,
            "disabled": false,
            "index": 0,
            "layout": "IPY_MODEL_5b4dae0043ab4366a4e118987a03be5e",
            "style": "IPY_MODEL_de5450e86610443fb07d745a5e0164e4"
          }
        },
        "a99013a34ea44abdbb7733136fc252e4": {
          "model_module": "@jupyter-widgets/output",
          "model_name": "OutputModel",
          "model_module_version": "1.0.0",
          "state": {
            "_dom_classes": [],
            "_model_module": "@jupyter-widgets/output",
            "_model_module_version": "1.0.0",
            "_model_name": "OutputModel",
            "_view_count": null,
            "_view_module": "@jupyter-widgets/output",
            "_view_module_version": "1.0.0",
            "_view_name": "OutputView",
            "layout": "IPY_MODEL_dd81296c5a4d4ddf84a9e05489010f65",
            "msg_id": "",
            "outputs": [
              {
                "output_type": "stream",
                "name": "stdout",
                "text": [
                  "79.89\n",
                  "77.76\n",
                  "40.09\n",
                  "20.75\n",
                  "20.73\n",
                  "21.44\n",
                  "20.99\n",
                  "40.02\n",
                  "18.77\n",
                  "18.87\n",
                  "100.23\n",
                  "20.07\n",
                  "23.18\n",
                  "99.42\n",
                  "100.32\n",
                  "20.8\n",
                  "19.58\n",
                  "49.88\n",
                  "21.98\n",
                  "117.77\n",
                  "78.4\n",
                  "101.2\n"
                ]
              }
            ]
          }
        },
        "5fdaf828504241578d79ce19c5f9dd22": {
          "model_module": "@jupyter-widgets/base",
          "model_name": "LayoutModel",
          "model_module_version": "1.2.0",
          "state": {
            "_model_module": "@jupyter-widgets/base",
            "_model_module_version": "1.2.0",
            "_model_name": "LayoutModel",
            "_view_count": null,
            "_view_module": "@jupyter-widgets/base",
            "_view_module_version": "1.2.0",
            "_view_name": "LayoutView",
            "align_content": null,
            "align_items": null,
            "align_self": null,
            "border": null,
            "bottom": null,
            "display": null,
            "flex": null,
            "flex_flow": null,
            "grid_area": null,
            "grid_auto_columns": null,
            "grid_auto_flow": null,
            "grid_auto_rows": null,
            "grid_column": null,
            "grid_gap": null,
            "grid_row": null,
            "grid_template_areas": null,
            "grid_template_columns": null,
            "grid_template_rows": null,
            "height": null,
            "justify_content": null,
            "justify_items": null,
            "left": null,
            "margin": null,
            "max_height": null,
            "max_width": null,
            "min_height": null,
            "min_width": null,
            "object_fit": null,
            "object_position": null,
            "order": null,
            "overflow": null,
            "overflow_x": null,
            "overflow_y": null,
            "padding": null,
            "right": null,
            "top": null,
            "visibility": null,
            "width": null
          }
        },
        "5b4dae0043ab4366a4e118987a03be5e": {
          "model_module": "@jupyter-widgets/base",
          "model_name": "LayoutModel",
          "model_module_version": "1.2.0",
          "state": {
            "_model_module": "@jupyter-widgets/base",
            "_model_module_version": "1.2.0",
            "_model_name": "LayoutModel",
            "_view_count": null,
            "_view_module": "@jupyter-widgets/base",
            "_view_module_version": "1.2.0",
            "_view_name": "LayoutView",
            "align_content": null,
            "align_items": null,
            "align_self": null,
            "border": null,
            "bottom": null,
            "display": null,
            "flex": null,
            "flex_flow": null,
            "grid_area": null,
            "grid_auto_columns": null,
            "grid_auto_flow": null,
            "grid_auto_rows": null,
            "grid_column": null,
            "grid_gap": null,
            "grid_row": null,
            "grid_template_areas": null,
            "grid_template_columns": null,
            "grid_template_rows": null,
            "height": null,
            "justify_content": null,
            "justify_items": null,
            "left": null,
            "margin": null,
            "max_height": null,
            "max_width": null,
            "min_height": null,
            "min_width": null,
            "object_fit": null,
            "object_position": null,
            "order": null,
            "overflow": null,
            "overflow_x": null,
            "overflow_y": null,
            "padding": null,
            "right": null,
            "top": null,
            "visibility": null,
            "width": null
          }
        },
        "de5450e86610443fb07d745a5e0164e4": {
          "model_module": "@jupyter-widgets/controls",
          "model_name": "DescriptionStyleModel",
          "model_module_version": "1.5.0",
          "state": {
            "_model_module": "@jupyter-widgets/controls",
            "_model_module_version": "1.5.0",
            "_model_name": "DescriptionStyleModel",
            "_view_count": null,
            "_view_module": "@jupyter-widgets/base",
            "_view_module_version": "1.2.0",
            "_view_name": "StyleView",
            "description_width": ""
          }
        },
        "dd81296c5a4d4ddf84a9e05489010f65": {
          "model_module": "@jupyter-widgets/base",
          "model_name": "LayoutModel",
          "model_module_version": "1.2.0",
          "state": {
            "_model_module": "@jupyter-widgets/base",
            "_model_module_version": "1.2.0",
            "_model_name": "LayoutModel",
            "_view_count": null,
            "_view_module": "@jupyter-widgets/base",
            "_view_module_version": "1.2.0",
            "_view_name": "LayoutView",
            "align_content": null,
            "align_items": null,
            "align_self": null,
            "border": null,
            "bottom": null,
            "display": null,
            "flex": null,
            "flex_flow": null,
            "grid_area": null,
            "grid_auto_columns": null,
            "grid_auto_flow": null,
            "grid_auto_rows": null,
            "grid_column": null,
            "grid_gap": null,
            "grid_row": null,
            "grid_template_areas": null,
            "grid_template_columns": null,
            "grid_template_rows": null,
            "height": null,
            "justify_content": null,
            "justify_items": null,
            "left": null,
            "margin": null,
            "max_height": null,
            "max_width": null,
            "min_height": null,
            "min_width": null,
            "object_fit": null,
            "object_position": null,
            "order": null,
            "overflow": null,
            "overflow_x": null,
            "overflow_y": null,
            "padding": null,
            "right": null,
            "top": null,
            "visibility": null,
            "width": null
          }
        }
      }
    }
  },
  "cells": [
    {
      "cell_type": "markdown",
      "metadata": {
        "id": "view-in-github",
        "colab_type": "text"
      },
      "source": [
        "<a href=\"https://colab.research.google.com/github/SarahEldreny/Optimizing-Agricultural-Production-Project/blob/main/Copy_of_Optimizing_Agricultural_Production_Project.ipynb\" target=\"_parent\"><img src=\"https://colab.research.google.com/assets/colab-badge.svg\" alt=\"Open In Colab\"/></a>"
      ]
    },
    {
      "cell_type": "markdown",
      "source": [
        "# Optimizing-Agricultural-Production\n",
        "## Problem Statement -\n",
        "Building a Predictive Model so as to suggest the most suitable crops to grow based on the available climatic and soil conditions.\n",
        "\n",
        "## Goal -\n",
        "To achieve precision farming by optimizing the agricultural production.\n",
        "The project is intended on Precision Farming.\n",
        "\n",
        "➔ To Optimize Productivity\n",
        "\n",
        "➔ By Understanding requirements of climatic and soil conditions for crops.\n",
        "\n",
        "➔ Helps us to Cope up with weather unpredictability.\n",
        "\n",
        "## About The Dataset Used (data.csv) -\n",
        "The Dataset Consists of 22 Unique Crops such as Maize, Wheat, Mango, Watermelon, Mango etc.\n",
        "\n",
        "➔ The dataset consists of climatic conditions required to grow the crops.\n",
        "\n",
        "   ◆ Temperature, Humidity, Rainfall.\n",
        "\n",
        "➔ The dataset also consists of soil conditions required to grow the crops\n",
        "\n",
        "   ◆ N: The Ratio of Nitrogen Content in Soil.\n",
        "   \n",
        "   ◆ P: The Ratio of Phosphorus Content in Soil.\n",
        "   \n",
        "   ◆ K: The Ratio of Potassium Content in Soil.\n",
        "   \n",
        "   ◆ pH: pH of the Soil\n",
        "   \n",
        "   \n",
        "   ## Libraries Used In The Project -\n",
        "   \n",
        "● Numpy: Used for Mathematical Operations.\n",
        "\n",
        "● Pandas: Used for DataFrame Operations.\n",
        "\n",
        "● Seaborn and Matplotlib: Used for Data Visualizations.\n",
        "\n",
        "● Ipywidgets: Used for Interactive Analysis.\n",
        "\n",
        "● Sklearn: Used for Machine Learning Algorithms\n",
        "\n",
        "   ## Steps of the algorithms\n",
        "1- Understanding the Dataset.\n",
        "\n",
        "2- Understanding the Problem Statement.\n",
        "\n",
        "3- Performing Descriptive Statistics.\n",
        "\n",
        "4- Clustering Similar Crops.\n",
        "\n",
        "5- Visualizing the Hidden Patterns.\n",
        "\n",
        "6- Building a Machine Learning Classification Model.\n"
      ],
      "metadata": {
        "id": "o8j6Lbz6v6Hc"
      }
    },
    {
      "cell_type": "code",
      "execution_count": 1,
      "metadata": {
        "id": "DGAfaqaivxb-"
      },
      "outputs": [],
      "source": [
        "#Reading the Dataset.\n",
        "import pandas as pd\n",
        "import numpy as np\n",
        "import seaborn as sns\n",
        "import matplotlib.pyplot as plt"
      ]
    },
    {
      "cell_type": "code",
      "source": [
        "data=pd.read_csv('data.csv')"
      ],
      "metadata": {
        "id": "ankYlOHdG5Hm"
      },
      "execution_count": 2,
      "outputs": []
    },
    {
      "cell_type": "code",
      "source": [
        "#Checking the missing values"
      ],
      "metadata": {
        "id": "yjt-E4Db2Mei"
      },
      "execution_count": 3,
      "outputs": []
    },
    {
      "cell_type": "code",
      "source": [
        "data.info()"
      ],
      "metadata": {
        "id": "QaKlv1mBIhO0",
        "outputId": "96b5d7a5-3fd9-4b75-eeed-3dad280f49f9",
        "colab": {
          "base_uri": "https://localhost:8080/"
        }
      },
      "execution_count": 4,
      "outputs": [
        {
          "output_type": "stream",
          "name": "stdout",
          "text": [
            "<class 'pandas.core.frame.DataFrame'>\n",
            "RangeIndex: 2200 entries, 0 to 2199\n",
            "Data columns (total 8 columns):\n",
            " #   Column       Non-Null Count  Dtype  \n",
            "---  ------       --------------  -----  \n",
            " 0   N            2200 non-null   int64  \n",
            " 1   P            2200 non-null   int64  \n",
            " 2   K            2200 non-null   int64  \n",
            " 3   temperature  2200 non-null   float64\n",
            " 4   humidity     2200 non-null   float64\n",
            " 5   ph           2200 non-null   float64\n",
            " 6   rainfall     2200 non-null   float64\n",
            " 7   label        2200 non-null   object \n",
            "dtypes: float64(4), int64(3), object(1)\n",
            "memory usage: 137.6+ KB\n"
          ]
        }
      ]
    },
    {
      "cell_type": "code",
      "source": [
        "#Checking the crops present\n",
        "data['label'].value_counts()"
      ],
      "metadata": {
        "id": "G1NE56UB2Qvy",
        "outputId": "4f6fc72e-3d24-42f5-99d1-45c7ca3feb56",
        "colab": {
          "base_uri": "https://localhost:8080/"
        }
      },
      "execution_count": 5,
      "outputs": [
        {
          "output_type": "execute_result",
          "data": {
            "text/plain": [
              "rice           100\n",
              "maize          100\n",
              "jute           100\n",
              "cotton         100\n",
              "coconut        100\n",
              "papaya         100\n",
              "orange         100\n",
              "apple          100\n",
              "muskmelon      100\n",
              "watermelon     100\n",
              "grapes         100\n",
              "mango          100\n",
              "banana         100\n",
              "pomegranate    100\n",
              "lentil         100\n",
              "blackgram      100\n",
              "mungbean       100\n",
              "mothbeans      100\n",
              "pigeonpeas     100\n",
              "kidneybeans    100\n",
              "chickpea       100\n",
              "coffee         100\n",
              "Name: label, dtype: int64"
            ]
          },
          "metadata": {},
          "execution_count": 5
        }
      ]
    },
    {
      "cell_type": "code",
      "source": [
        "#Checking average climatic and soil requirements\n",
        "data.describe()"
      ],
      "metadata": {
        "id": "upk5e5XU2TkJ",
        "outputId": "9aa100d3-b23f-4f27-aac1-65329e2af47c",
        "colab": {
          "base_uri": "https://localhost:8080/",
          "height": 300
        }
      },
      "execution_count": 6,
      "outputs": [
        {
          "output_type": "execute_result",
          "data": {
            "text/plain": [
              "                 N            P            K  temperature     humidity  \\\n",
              "count  2200.000000  2200.000000  2200.000000  2200.000000  2200.000000   \n",
              "mean     50.551818    53.362727    48.149091    25.616244    71.481779   \n",
              "std      36.917334    32.985883    50.647931     5.063749    22.263812   \n",
              "min       0.000000     5.000000     5.000000     8.825675    14.258040   \n",
              "25%      21.000000    28.000000    20.000000    22.769375    60.261953   \n",
              "50%      37.000000    51.000000    32.000000    25.598693    80.473146   \n",
              "75%      84.250000    68.000000    49.000000    28.561654    89.948771   \n",
              "max     140.000000   145.000000   205.000000    43.675493    99.981876   \n",
              "\n",
              "                ph     rainfall  \n",
              "count  2200.000000  2200.000000  \n",
              "mean      6.469480   103.463655  \n",
              "std       0.773938    54.958389  \n",
              "min       3.504752    20.211267  \n",
              "25%       5.971693    64.551686  \n",
              "50%       6.425045    94.867624  \n",
              "75%       6.923643   124.267508  \n",
              "max       9.935091   298.560117  "
            ],
            "text/html": [
              "\n",
              "  <div id=\"df-104b47ad-0dc4-4e91-a540-6bfa99f02b26\" class=\"colab-df-container\">\n",
              "    <div>\n",
              "<style scoped>\n",
              "    .dataframe tbody tr th:only-of-type {\n",
              "        vertical-align: middle;\n",
              "    }\n",
              "\n",
              "    .dataframe tbody tr th {\n",
              "        vertical-align: top;\n",
              "    }\n",
              "\n",
              "    .dataframe thead th {\n",
              "        text-align: right;\n",
              "    }\n",
              "</style>\n",
              "<table border=\"1\" class=\"dataframe\">\n",
              "  <thead>\n",
              "    <tr style=\"text-align: right;\">\n",
              "      <th></th>\n",
              "      <th>N</th>\n",
              "      <th>P</th>\n",
              "      <th>K</th>\n",
              "      <th>temperature</th>\n",
              "      <th>humidity</th>\n",
              "      <th>ph</th>\n",
              "      <th>rainfall</th>\n",
              "    </tr>\n",
              "  </thead>\n",
              "  <tbody>\n",
              "    <tr>\n",
              "      <th>count</th>\n",
              "      <td>2200.000000</td>\n",
              "      <td>2200.000000</td>\n",
              "      <td>2200.000000</td>\n",
              "      <td>2200.000000</td>\n",
              "      <td>2200.000000</td>\n",
              "      <td>2200.000000</td>\n",
              "      <td>2200.000000</td>\n",
              "    </tr>\n",
              "    <tr>\n",
              "      <th>mean</th>\n",
              "      <td>50.551818</td>\n",
              "      <td>53.362727</td>\n",
              "      <td>48.149091</td>\n",
              "      <td>25.616244</td>\n",
              "      <td>71.481779</td>\n",
              "      <td>6.469480</td>\n",
              "      <td>103.463655</td>\n",
              "    </tr>\n",
              "    <tr>\n",
              "      <th>std</th>\n",
              "      <td>36.917334</td>\n",
              "      <td>32.985883</td>\n",
              "      <td>50.647931</td>\n",
              "      <td>5.063749</td>\n",
              "      <td>22.263812</td>\n",
              "      <td>0.773938</td>\n",
              "      <td>54.958389</td>\n",
              "    </tr>\n",
              "    <tr>\n",
              "      <th>min</th>\n",
              "      <td>0.000000</td>\n",
              "      <td>5.000000</td>\n",
              "      <td>5.000000</td>\n",
              "      <td>8.825675</td>\n",
              "      <td>14.258040</td>\n",
              "      <td>3.504752</td>\n",
              "      <td>20.211267</td>\n",
              "    </tr>\n",
              "    <tr>\n",
              "      <th>25%</th>\n",
              "      <td>21.000000</td>\n",
              "      <td>28.000000</td>\n",
              "      <td>20.000000</td>\n",
              "      <td>22.769375</td>\n",
              "      <td>60.261953</td>\n",
              "      <td>5.971693</td>\n",
              "      <td>64.551686</td>\n",
              "    </tr>\n",
              "    <tr>\n",
              "      <th>50%</th>\n",
              "      <td>37.000000</td>\n",
              "      <td>51.000000</td>\n",
              "      <td>32.000000</td>\n",
              "      <td>25.598693</td>\n",
              "      <td>80.473146</td>\n",
              "      <td>6.425045</td>\n",
              "      <td>94.867624</td>\n",
              "    </tr>\n",
              "    <tr>\n",
              "      <th>75%</th>\n",
              "      <td>84.250000</td>\n",
              "      <td>68.000000</td>\n",
              "      <td>49.000000</td>\n",
              "      <td>28.561654</td>\n",
              "      <td>89.948771</td>\n",
              "      <td>6.923643</td>\n",
              "      <td>124.267508</td>\n",
              "    </tr>\n",
              "    <tr>\n",
              "      <th>max</th>\n",
              "      <td>140.000000</td>\n",
              "      <td>145.000000</td>\n",
              "      <td>205.000000</td>\n",
              "      <td>43.675493</td>\n",
              "      <td>99.981876</td>\n",
              "      <td>9.935091</td>\n",
              "      <td>298.560117</td>\n",
              "    </tr>\n",
              "  </tbody>\n",
              "</table>\n",
              "</div>\n",
              "    <div class=\"colab-df-buttons\">\n",
              "\n",
              "  <div class=\"colab-df-container\">\n",
              "    <button class=\"colab-df-convert\" onclick=\"convertToInteractive('df-104b47ad-0dc4-4e91-a540-6bfa99f02b26')\"\n",
              "            title=\"Convert this dataframe to an interactive table.\"\n",
              "            style=\"display:none;\">\n",
              "\n",
              "  <svg xmlns=\"http://www.w3.org/2000/svg\" height=\"24px\" viewBox=\"0 -960 960 960\">\n",
              "    <path d=\"M120-120v-720h720v720H120Zm60-500h600v-160H180v160Zm220 220h160v-160H400v160Zm0 220h160v-160H400v160ZM180-400h160v-160H180v160Zm440 0h160v-160H620v160ZM180-180h160v-160H180v160Zm440 0h160v-160H620v160Z\"/>\n",
              "  </svg>\n",
              "    </button>\n",
              "\n",
              "  <style>\n",
              "    .colab-df-container {\n",
              "      display:flex;\n",
              "      gap: 12px;\n",
              "    }\n",
              "\n",
              "    .colab-df-convert {\n",
              "      background-color: #E8F0FE;\n",
              "      border: none;\n",
              "      border-radius: 50%;\n",
              "      cursor: pointer;\n",
              "      display: none;\n",
              "      fill: #1967D2;\n",
              "      height: 32px;\n",
              "      padding: 0 0 0 0;\n",
              "      width: 32px;\n",
              "    }\n",
              "\n",
              "    .colab-df-convert:hover {\n",
              "      background-color: #E2EBFA;\n",
              "      box-shadow: 0px 1px 2px rgba(60, 64, 67, 0.3), 0px 1px 3px 1px rgba(60, 64, 67, 0.15);\n",
              "      fill: #174EA6;\n",
              "    }\n",
              "\n",
              "    .colab-df-buttons div {\n",
              "      margin-bottom: 4px;\n",
              "    }\n",
              "\n",
              "    [theme=dark] .colab-df-convert {\n",
              "      background-color: #3B4455;\n",
              "      fill: #D2E3FC;\n",
              "    }\n",
              "\n",
              "    [theme=dark] .colab-df-convert:hover {\n",
              "      background-color: #434B5C;\n",
              "      box-shadow: 0px 1px 3px 1px rgba(0, 0, 0, 0.15);\n",
              "      filter: drop-shadow(0px 1px 2px rgba(0, 0, 0, 0.3));\n",
              "      fill: #FFFFFF;\n",
              "    }\n",
              "  </style>\n",
              "\n",
              "    <script>\n",
              "      const buttonEl =\n",
              "        document.querySelector('#df-104b47ad-0dc4-4e91-a540-6bfa99f02b26 button.colab-df-convert');\n",
              "      buttonEl.style.display =\n",
              "        google.colab.kernel.accessAllowed ? 'block' : 'none';\n",
              "\n",
              "      async function convertToInteractive(key) {\n",
              "        const element = document.querySelector('#df-104b47ad-0dc4-4e91-a540-6bfa99f02b26');\n",
              "        const dataTable =\n",
              "          await google.colab.kernel.invokeFunction('convertToInteractive',\n",
              "                                                    [key], {});\n",
              "        if (!dataTable) return;\n",
              "\n",
              "        const docLinkHtml = 'Like what you see? Visit the ' +\n",
              "          '<a target=\"_blank\" href=https://colab.research.google.com/notebooks/data_table.ipynb>data table notebook</a>'\n",
              "          + ' to learn more about interactive tables.';\n",
              "        element.innerHTML = '';\n",
              "        dataTable['output_type'] = 'display_data';\n",
              "        await google.colab.output.renderOutput(dataTable, element);\n",
              "        const docLink = document.createElement('div');\n",
              "        docLink.innerHTML = docLinkHtml;\n",
              "        element.appendChild(docLink);\n",
              "      }\n",
              "    </script>\n",
              "  </div>\n",
              "\n",
              "\n",
              "<div id=\"df-e72ed45d-cfe4-4504-a2bf-75b04757311a\">\n",
              "  <button class=\"colab-df-quickchart\" onclick=\"quickchart('df-e72ed45d-cfe4-4504-a2bf-75b04757311a')\"\n",
              "            title=\"Suggest charts\"\n",
              "            style=\"display:none;\">\n",
              "\n",
              "<svg xmlns=\"http://www.w3.org/2000/svg\" height=\"24px\"viewBox=\"0 0 24 24\"\n",
              "     width=\"24px\">\n",
              "    <g>\n",
              "        <path d=\"M19 3H5c-1.1 0-2 .9-2 2v14c0 1.1.9 2 2 2h14c1.1 0 2-.9 2-2V5c0-1.1-.9-2-2-2zM9 17H7v-7h2v7zm4 0h-2V7h2v10zm4 0h-2v-4h2v4z\"/>\n",
              "    </g>\n",
              "</svg>\n",
              "  </button>\n",
              "\n",
              "<style>\n",
              "  .colab-df-quickchart {\n",
              "      --bg-color: #E8F0FE;\n",
              "      --fill-color: #1967D2;\n",
              "      --hover-bg-color: #E2EBFA;\n",
              "      --hover-fill-color: #174EA6;\n",
              "      --disabled-fill-color: #AAA;\n",
              "      --disabled-bg-color: #DDD;\n",
              "  }\n",
              "\n",
              "  [theme=dark] .colab-df-quickchart {\n",
              "      --bg-color: #3B4455;\n",
              "      --fill-color: #D2E3FC;\n",
              "      --hover-bg-color: #434B5C;\n",
              "      --hover-fill-color: #FFFFFF;\n",
              "      --disabled-bg-color: #3B4455;\n",
              "      --disabled-fill-color: #666;\n",
              "  }\n",
              "\n",
              "  .colab-df-quickchart {\n",
              "    background-color: var(--bg-color);\n",
              "    border: none;\n",
              "    border-radius: 50%;\n",
              "    cursor: pointer;\n",
              "    display: none;\n",
              "    fill: var(--fill-color);\n",
              "    height: 32px;\n",
              "    padding: 0;\n",
              "    width: 32px;\n",
              "  }\n",
              "\n",
              "  .colab-df-quickchart:hover {\n",
              "    background-color: var(--hover-bg-color);\n",
              "    box-shadow: 0 1px 2px rgba(60, 64, 67, 0.3), 0 1px 3px 1px rgba(60, 64, 67, 0.15);\n",
              "    fill: var(--button-hover-fill-color);\n",
              "  }\n",
              "\n",
              "  .colab-df-quickchart-complete:disabled,\n",
              "  .colab-df-quickchart-complete:disabled:hover {\n",
              "    background-color: var(--disabled-bg-color);\n",
              "    fill: var(--disabled-fill-color);\n",
              "    box-shadow: none;\n",
              "  }\n",
              "\n",
              "  .colab-df-spinner {\n",
              "    border: 2px solid var(--fill-color);\n",
              "    border-color: transparent;\n",
              "    border-bottom-color: var(--fill-color);\n",
              "    animation:\n",
              "      spin 1s steps(1) infinite;\n",
              "  }\n",
              "\n",
              "  @keyframes spin {\n",
              "    0% {\n",
              "      border-color: transparent;\n",
              "      border-bottom-color: var(--fill-color);\n",
              "      border-left-color: var(--fill-color);\n",
              "    }\n",
              "    20% {\n",
              "      border-color: transparent;\n",
              "      border-left-color: var(--fill-color);\n",
              "      border-top-color: var(--fill-color);\n",
              "    }\n",
              "    30% {\n",
              "      border-color: transparent;\n",
              "      border-left-color: var(--fill-color);\n",
              "      border-top-color: var(--fill-color);\n",
              "      border-right-color: var(--fill-color);\n",
              "    }\n",
              "    40% {\n",
              "      border-color: transparent;\n",
              "      border-right-color: var(--fill-color);\n",
              "      border-top-color: var(--fill-color);\n",
              "    }\n",
              "    60% {\n",
              "      border-color: transparent;\n",
              "      border-right-color: var(--fill-color);\n",
              "    }\n",
              "    80% {\n",
              "      border-color: transparent;\n",
              "      border-right-color: var(--fill-color);\n",
              "      border-bottom-color: var(--fill-color);\n",
              "    }\n",
              "    90% {\n",
              "      border-color: transparent;\n",
              "      border-bottom-color: var(--fill-color);\n",
              "    }\n",
              "  }\n",
              "</style>\n",
              "\n",
              "  <script>\n",
              "    async function quickchart(key) {\n",
              "      const quickchartButtonEl =\n",
              "        document.querySelector('#' + key + ' button');\n",
              "      quickchartButtonEl.disabled = true;  // To prevent multiple clicks.\n",
              "      quickchartButtonEl.classList.add('colab-df-spinner');\n",
              "      try {\n",
              "        const charts = await google.colab.kernel.invokeFunction(\n",
              "            'suggestCharts', [key], {});\n",
              "      } catch (error) {\n",
              "        console.error('Error during call to suggestCharts:', error);\n",
              "      }\n",
              "      quickchartButtonEl.classList.remove('colab-df-spinner');\n",
              "      quickchartButtonEl.classList.add('colab-df-quickchart-complete');\n",
              "    }\n",
              "    (() => {\n",
              "      let quickchartButtonEl =\n",
              "        document.querySelector('#df-e72ed45d-cfe4-4504-a2bf-75b04757311a button');\n",
              "      quickchartButtonEl.style.display =\n",
              "        google.colab.kernel.accessAllowed ? 'block' : 'none';\n",
              "    })();\n",
              "  </script>\n",
              "</div>\n",
              "    </div>\n",
              "  </div>\n"
            ]
          },
          "metadata": {},
          "execution_count": 6
        }
      ]
    },
    {
      "cell_type": "code",
      "source": [
        "#Checking the detailed statistics for each crop\n",
        "conditions=['N','P','K','temperature','humidity','ph','rainfall']\n",
        "data[(data['label'] == 'rice')][conditions].mean()"
      ],
      "metadata": {
        "id": "n97GF1D32i_n",
        "outputId": "43d4778d-947b-4639-dec8-d3325ceee2c9",
        "colab": {
          "base_uri": "https://localhost:8080/"
        }
      },
      "execution_count": 7,
      "outputs": [
        {
          "output_type": "execute_result",
          "data": {
            "text/plain": [
              "N               79.890000\n",
              "P               47.580000\n",
              "K               39.870000\n",
              "temperature     23.689332\n",
              "humidity        82.272822\n",
              "ph               6.425471\n",
              "rainfall       236.181114\n",
              "dtype: float64"
            ]
          },
          "metadata": {},
          "execution_count": 7
        }
      ]
    },
    {
      "cell_type": "code",
      "source": [
        "data['label'].unique()"
      ],
      "metadata": {
        "id": "a3clFtuHP5j2",
        "outputId": "f79a361a-a6df-4505-db14-851118a5a686",
        "colab": {
          "base_uri": "https://localhost:8080/"
        }
      },
      "execution_count": 8,
      "outputs": [
        {
          "output_type": "execute_result",
          "data": {
            "text/plain": [
              "array(['rice', 'maize', 'chickpea', 'kidneybeans', 'pigeonpeas',\n",
              "       'mothbeans', 'mungbean', 'blackgram', 'lentil', 'pomegranate',\n",
              "       'banana', 'mango', 'grapes', 'watermelon', 'muskmelon', 'apple',\n",
              "       'orange', 'papaya', 'coconut', 'cotton', 'jute', 'coffee'],\n",
              "      dtype=object)"
            ]
          },
          "metadata": {},
          "execution_count": 8
        }
      ]
    },
    {
      "cell_type": "code",
      "source": [
        "#Comparing Average requirement and conditions for each crop\n",
        "\n",
        "import ipywidgets as widgets\n",
        "from ipywidgets import interact\n",
        "@interact\n",
        "def newdata (conditions=['N','P','K','temperature','humidity','ph','rainfall']) :\n",
        "  print (data[(data['label'] == 'rice')][conditions].mean())\n",
        "  print (data[(data['label'] == 'maize')][conditions].mean())\n",
        "  print (data[(data['label'] == 'chickpea')][conditions].mean())\n",
        "  print (data[(data['label'] == 'kidneybeans')][conditions].mean())\n",
        "  print (data[(data['label'] == 'pigeonpeas')][conditions].mean())\n",
        "  print (data[(data['label'] == 'mothbeans')][conditions].mean())\n",
        "  print (data[(data['label'] == 'mungbean')][conditions].mean())\n",
        "  print (data[(data['label'] == 'blackgram')][conditions].mean())\n",
        "  print (data[(data['label'] == 'lentil')][conditions].mean())\n",
        "  print (data[(data['label'] == 'pomegranate')][conditions].mean())\n",
        "  print (data[(data['label'] == 'banana')][conditions].mean())\n",
        "  print (data[(data['label'] == 'mango')][conditions].mean())\n",
        "  print (data[(data['label'] == 'grapes')][conditions].mean())\n",
        "  print (data[(data['label'] == 'watermelon')][conditions].mean())\n",
        "  print (data[(data['label'] == 'muskmelon')][conditions].mean())\n",
        "  print (data[(data['label'] == 'apple')][conditions].mean())\n",
        "  print (data[(data['label'] == 'orange')][conditions].mean())\n",
        "  print (data[(data['label'] == 'papaya')][conditions].mean())\n",
        "  print (data[(data['label'] == 'coconut')][conditions].mean())\n",
        "  print (data[(data['label'] == 'cotton')][conditions].mean())\n",
        "  print (data[(data['label'] == 'jute')][conditions].mean())\n",
        "  print (data[(data['label'] == 'coffee')][conditions].mean())"
      ],
      "metadata": {
        "id": "UzEDnr23Nukg",
        "outputId": "fa459479-e55c-487f-e0aa-cfb32f096495",
        "colab": {
          "base_uri": "https://localhost:8080/",
          "height": 442,
          "referenced_widgets": [
            "ee04a4b8b50a41e790820d596410d282",
            "7faceb6052cf4a68bf4d9e3e9092248e",
            "43aa998c482e47d19c43981af4f8b033",
            "3997a3a2dd564e5b931b4ed5ed203537",
            "187f8428a2ce47eb9830a62d373122d3",
            "d3141fea1fa2470097cf469b6dacd49f",
            "67e76b2cb6464dceb92d11ed28f33e8d"
          ]
        }
      },
      "execution_count": 13,
      "outputs": [
        {
          "output_type": "display_data",
          "data": {
            "text/plain": [
              "interactive(children=(Dropdown(description='conditions', options=('N', 'P', 'K', 'temperature', 'humidity', 'p…"
            ],
            "application/vnd.jupyter.widget-view+json": {
              "version_major": 2,
              "version_minor": 0,
              "model_id": "ee04a4b8b50a41e790820d596410d282"
            }
          },
          "metadata": {}
        }
      ]
    },
    {
      "cell_type": "code",
      "source": [
        "#Comparing Average requirement and conditions for each crop\n",
        "@interact\n",
        "def newdata (conditions=['N','P','K','temperature','humidity','ph','rainfall']) :\n",
        "  for i in data['label'].unique():\n",
        "    print (data[(data['label'] == i )][conditions].mean())"
      ],
      "metadata": {
        "id": "5i7zMMyJ2pxn",
        "outputId": "3b48069a-25f4-4884-9eee-3f359a3e45e3",
        "colab": {
          "base_uri": "https://localhost:8080/",
          "height": 442,
          "referenced_widgets": [
            "ba448dedef424e359858ba8257643563",
            "fec1834c3e72444d9c34dd2678062d70",
            "a99013a34ea44abdbb7733136fc252e4",
            "5fdaf828504241578d79ce19c5f9dd22",
            "5b4dae0043ab4366a4e118987a03be5e",
            "de5450e86610443fb07d745a5e0164e4",
            "dd81296c5a4d4ddf84a9e05489010f65"
          ]
        }
      },
      "execution_count": 14,
      "outputs": [
        {
          "output_type": "display_data",
          "data": {
            "text/plain": [
              "interactive(children=(Dropdown(description='conditions', options=('N', 'P', 'K', 'temperature', 'humidity', 'p…"
            ],
            "application/vnd.jupyter.widget-view+json": {
              "version_major": 2,
              "version_minor": 0,
              "model_id": "ba448dedef424e359858ba8257643563"
            }
          },
          "metadata": {}
        }
      ]
    },
    {
      "cell_type": "code",
      "source": [
        "#Checking the below and above Average Conditions\n",
        "@interact\n",
        "def newdata (conditions=['N','P','K','temperature','humidity','ph','rainfall']) :\n",
        "  print(\"crops that required greater than average\", conditions)\n",
        "  print(data[data[conditions] >= data[conditions].mean()]['label'].unique())\n",
        "\n",
        "  print(\"crops that required less than average\", conditions)\n",
        "  print(data[data[conditions] <= data[conditions].mean()]['label'].unique())"
      ],
      "metadata": {
        "id": "TdHS7gX53Mqu",
        "outputId": "9fff5621-2047-49fb-b99c-64717309fa00",
        "colab": {
          "base_uri": "https://localhost:8080/",
          "height": 192,
          "referenced_widgets": [
            "998be1f04e884b6bbb656fb023cc43d4",
            "a61cc48fea014b65bc2b29db5459cc54",
            "fb0b52e889244b69869ac04946668949",
            "fb5e8980f34f4741807d76aee97968cd",
            "aea66dd008dd405fab5023a30303b55e",
            "641399779f014b5e8f255357d27b913c",
            "212d35cf0885450ebe6c1052bf350a34"
          ]
        }
      },
      "execution_count": null,
      "outputs": [
        {
          "output_type": "display_data",
          "data": {
            "text/plain": [
              "interactive(children=(Dropdown(description='conditions', options=('N', 'P', 'K', 'temperature', 'humidity', 'p…"
            ],
            "application/vnd.jupyter.widget-view+json": {
              "version_major": 2,
              "version_minor": 0,
              "model_id": "998be1f04e884b6bbb656fb023cc43d4"
            }
          },
          "metadata": {}
        }
      ]
    },
    {
      "cell_type": "code",
      "source": [
        "plt.subplot(3,4,1)\n",
        "sns.histplot(data['N'], color=\"yellow\")\n",
        "plt.xlabel('Nitrogen', fontsize = 12)\n",
        "plt.grid()\n",
        "\n",
        "plt.subplot(3,4,2)\n",
        "sns.histplot(data['P'], color=\"orange\")\n",
        "plt.xlabel('Phosphorous', fontsize = 12)\n",
        "plt.grid()\n",
        "\n",
        "plt.subplot(3,4,3)\n",
        "sns.histplot(data['K'], color=\"darkblue\")\n",
        "plt.xlabel('Pottasium', fontsize = 12)\n",
        "plt.grid()\n",
        "\n",
        "plt.subplot(3,4,4)\n",
        "sns.histplot(data['temperature'], color=\"black\")\n",
        "plt.xlabel('Temperature', fontsize = 12)\n",
        "plt.grid()\n",
        "\n",
        "plt.subplot(2,4,5)\n",
        "sns.histplot(data['rainfall'], color=\"grey\")\n",
        "plt.xlabel('Rainfall', fontsize = 12)\n",
        "plt.grid()\n",
        "\n",
        "plt.subplot(2,4,6)\n",
        "sns.histplot(data['humidity'], color=\"lightgreen\")\n",
        "plt.xlabel('Humidity', fontsize = 12)\n",
        "plt.grid()\n",
        "\n",
        "plt.subplot(2,4,7)\n",
        "sns.histplot(data['ph'], color=\"darkgreen\")\n",
        "plt.xlabel('PH Level', fontsize = 12)\n",
        "plt.grid()\n",
        "\n",
        "plt.suptitle('Distribution for Agricultural Conditions', fontsize = 20)\n",
        "plt.show()\n"
      ],
      "metadata": {
        "id": "Z1svMLuKVQ1Q",
        "outputId": "fd25fae6-20d2-4c7f-d1db-a644c8960a9f",
        "colab": {
          "base_uri": "https://localhost:8080/",
          "height": 311
        }
      },
      "execution_count": null,
      "outputs": [
        {
          "output_type": "display_data",
          "data": {
            "text/plain": [
              "<Figure size 432x288 with 7 Axes>"
            ],
            "image/png": "[encoded data removed]"
          },
          "metadata": {
            "needs_background": "light"
          }
        }
      ]
    },
    {
      "cell_type": "code",
      "source": [
        "#Checking that crops those have unusual requirements\n",
        "print(\"Some Interesting Patterns\")\n",
        "print(\"...........................................\")\n",
        "print(\"Crops that require very High Ratio of Nitrogen Content in Soil:\", data[data['N'] > 120]['label'].unique())\n",
        "print(\"Crops that require very High Ratio of Phosphorous Content in Soil:\", data[data['P'] > 100]['label'].unique())\n",
        "print(\"Crops that require very High Ratio of Potassium Content in Soil:\", data[data['K'] > 200]['label'].unique())\n",
        "print(\"Crops that require very High Temperature :\", data[data['temperature'] < 10]['label'].unique())\n",
        "print(\"Crops that require very low Temperature  :\", data[data['temperature'] > 40]['label'].unique())\n",
        "print(\"Crops that require very High Rainfall :\", data[data['rainfall'] > 200]['label'].unique())\n",
        "print(\"Crops that require very low Humidity :\", data[data['humidity'] < 20]['label'].unique())\n",
        "print(\"Crops that require very high Humidity :\", data[data['humidity'] > 100]['label'].unique())\n",
        "print(\"Crops that require very low PH level :\", data[data['ph'] < 4]['label'].unique())\n",
        "print(\"Crops that require very high PH level :\", data[data['ph'] > 9]['label'].unique())\n",
        "\n"
      ],
      "metadata": {
        "id": "6sU2Xxas3SRA",
        "outputId": "78fb4cc8-d171-429b-f313-fd1a487756cd",
        "colab": {
          "base_uri": "https://localhost:8080/"
        }
      },
      "execution_count": null,
      "outputs": [
        {
          "output_type": "stream",
          "name": "stdout",
          "text": [
            "Some Interesting Patterns\n",
            "...........................................\n",
            "Crops that require very High Ratio of Nitrogen Content in Soil: ['cotton']\n",
            "Crops that require very High Ratio of Phosphorous Content in Soil: ['grapes' 'apple']\n",
            "Crops that require very High Ratio of Potassium Content in Soil: ['grapes' 'apple']\n",
            "Crops that require very High Temperature : ['grapes']\n",
            "Crops that require very low Temperature  : ['grapes' 'papaya']\n",
            "Crops that require very High Rainfall : ['rice' 'papaya' 'coconut']\n",
            "Crops that require very low Humidity : ['chickpea' 'kidneybeans']\n",
            "Crops that require very high Humidity : []\n",
            "Crops that require very low PH level : ['mothbeans']\n",
            "Crops that require very high PH level : ['mothbeans']\n"
          ]
        }
      ]
    },
    {
      "cell_type": "code",
      "source": [
        "#Checking which crop to be grown according to the season\n",
        "print(\"Summer Crops\")\n",
        "print(data[(data['temperature'] > 30) & (data['humidity'] > 50)]['label'].unique())\n",
        "print(\"...........................................\")\n",
        "print(\"Winter Crops\")\n",
        "print(data[(data['temperature'] < 20) & (data['humidity'] > 30)]['label'].unique())\n",
        "print(\"...........................................\")\n",
        "print(\"Monsoon Crops\")\n",
        "print(data[(data['rainfall'] > 200) & (data['humidity'] > 30)]['label'].unique())\n",
        "print(\"...........................................\")\n"
      ],
      "metadata": {
        "id": "8esMSlDw3Wbn",
        "outputId": "34ffc4b6-84bd-4aa6-c52c-ba63d57a02d4",
        "colab": {
          "base_uri": "https://localhost:8080/"
        }
      },
      "execution_count": null,
      "outputs": [
        {
          "output_type": "stream",
          "name": "stdout",
          "text": [
            "Summer Crops\n",
            "['pigeonpeas' 'mothbeans' 'blackgram' 'mango' 'grapes' 'orange' 'papaya']\n",
            "...........................................\n",
            "Winter Crops\n",
            "['maize' 'pigeonpeas' 'lentil' 'pomegranate' 'grapes' 'orange']\n",
            "...........................................\n",
            "Monsoon Crops\n",
            "['rice' 'papaya' 'coconut']\n",
            "...........................................\n"
          ]
        }
      ]
    },
    {
      "cell_type": "code",
      "source": [
        "#Determining the optimum number of clusters within the Dataset\n",
        "from sklearn.cluster import KMeans\n",
        "\n",
        "newfeatures=data.drop(['label'],axis=1)\n",
        "newfeatures=newfeatures.values\n",
        "\n",
        "print(newfeatures.shape)\n",
        "\n",
        "inertias = []\n",
        "\n",
        "for i in range(1,11):\n",
        "  kmeans = KMeans(n_clusters=i)\n",
        "  kmeans.fit(newfeatures)\n",
        "  inertias.append(kmeans.inertia_)\n",
        "\n",
        "plt.plot(range(1,11), inertias, marker='o')\n",
        "plt.title('Elbow method')\n",
        "plt.xlabel('Number of clusters')\n",
        "plt.ylabel('Inertia')\n",
        "plt.show()\n"
      ],
      "metadata": {
        "id": "MDC5L24H3a2C",
        "outputId": "1ef45ba3-3766-4a59-a4a6-f05a0aa2ba12",
        "colab": {
          "base_uri": "https://localhost:8080/",
          "height": 313
        }
      },
      "execution_count": null,
      "outputs": [
        {
          "output_type": "stream",
          "name": "stdout",
          "text": [
            "(2200, 7)\n"
          ]
        },
        {
          "output_type": "display_data",
          "data": {
            "text/plain": [
              "<Figure size 432x288 with 1 Axes>"
            ],
            "image/png": "[encoded data removed]"
          },
          "metadata": {
            "needs_background": "light"
          }
        }
      ]
    },
    {
      "cell_type": "code",
      "source": [
        "#Implementation of K Means algorithm to perform Clustering analysis\n",
        "km = KMeans(n_clusters = 4, init = 'k-means++',  max_iter = 2000, n_init = 10, random_state = 0)\n",
        "y_means = km.fit_predict(newfeatures)\n",
        "\n",
        "a = data['label']\n",
        "y_means = pd.DataFrame(y_means)\n",
        "z = pd.concat([y_means, a], axis = 1)\n",
        "z = z.rename(columns = {0: 'cluster'})\n",
        "\n",
        "print(\"Lets Check the results after applying K Means Clustering Analysis \\n\")\n",
        "print(\"Crops in First Cluster:\", z[z['cluster'] == 0]['label'].unique())\n",
        "print(\"...........................................\")\n",
        "\n",
        "print(\"Crops in second Cluster:\", z[z['cluster'] == 1]['label'].unique())\n",
        "print(\"...........................................\")\n",
        "\n",
        "print(\"Crops in third Cluster:\", z[z['cluster'] == 2]['label'].unique())\n",
        "print(\"...........................................\")\n",
        "\n",
        "print(\"Crops in Fourth Cluster:\", z[z['cluster'] == 3]['label'].unique())\n",
        "print(\"...........................................\")\n"
      ],
      "metadata": {
        "id": "ggtVo_-L3jyT",
        "outputId": "ca2c7f5a-8652-451a-dc14-aadf2e4d06a2",
        "colab": {
          "base_uri": "https://localhost:8080/"
        }
      },
      "execution_count": null,
      "outputs": [
        {
          "output_type": "stream",
          "name": "stdout",
          "text": [
            "Lets Check the results after applying K Means Clustering Analysis \n",
            "\n",
            "Crops in First Cluster: ['maize' 'chickpea' 'kidneybeans' 'pigeonpeas' 'mothbeans' 'mungbean'\n",
            " 'blackgram' 'lentil' 'pomegranate' 'mango' 'orange' 'papaya' 'coconut']\n",
            "...........................................\n",
            "Crops in second Cluster: ['maize' 'banana' 'watermelon' 'muskmelon' 'papaya' 'cotton' 'coffee']\n",
            "...........................................\n",
            "Crops in third Cluster: ['grapes' 'apple']\n",
            "...........................................\n",
            "Crops in Fourth Cluster: ['rice' 'pigeonpeas' 'papaya' 'coconut' 'jute' 'coffee']\n",
            "...........................................\n"
          ]
        }
      ]
    },
    {
      "cell_type": "code",
      "source": [
        "#Splitting the Dataset for predictive modelling\n",
        "y = data['label']\n",
        "x = data.drop(['label'],axis=1)\n",
        "\n",
        "print(x.shape,y.shape)"
      ],
      "metadata": {
        "id": "84dXFwq43nCF",
        "outputId": "0890cc6d-f1e1-417a-adc1-aac442e7db6c",
        "colab": {
          "base_uri": "https://localhost:8080/"
        }
      },
      "execution_count": null,
      "outputs": [
        {
          "output_type": "stream",
          "name": "stdout",
          "text": [
            "(2200, 7) (2200,)\n"
          ]
        }
      ]
    },
    {
      "cell_type": "code",
      "source": [
        "#Creating training and testing sets for results validation\n",
        "from sklearn.model_selection import train_test_split\n",
        "\n",
        "x_train, x_test, y_train, y_test = train_test_split(x , y, test_size = 0.2 , random_state = 0)\n",
        "print(x_train.shape, x_test.shape, y_train.shape, y_test.shape)"
      ],
      "metadata": {
        "id": "iFDP4GfX3sj2",
        "outputId": "4d81ba65-d76a-4371-a778-607bc47a4306",
        "colab": {
          "base_uri": "https://localhost:8080/"
        }
      },
      "execution_count": null,
      "outputs": [
        {
          "output_type": "stream",
          "name": "stdout",
          "text": [
            "(1760, 7) (440, 7) (1760,) (440,)\n"
          ]
        }
      ]
    },
    {
      "cell_type": "code",
      "source": [
        "#Creating a Predictive Model\n",
        "from sklearn.linear_model import LogisticRegression\n",
        "\n",
        "model = LogisticRegression()\n",
        "model.fit(x_train, y_train)\n",
        "y_pred = model.predict(x_test)\n",
        "\n",
        "y_pred"
      ],
      "metadata": {
        "id": "dXMYxMDU3uhN",
        "outputId": "ae891b42-85de-40cf-d5f3-b0ec2df1bddd",
        "colab": {
          "base_uri": "https://localhost:8080/"
        }
      },
      "execution_count": null,
      "outputs": [
        {
          "output_type": "stream",
          "name": "stderr",
          "text": [
            "/usr/local/lib/python3.8/dist-packages/sklearn/linear_model/_logistic.py:814: ConvergenceWarning: lbfgs failed to converge (status=1):\n",
            "STOP: TOTAL NO. of ITERATIONS REACHED LIMIT.\n",
            "\n",
            "Increase the number of iterations (max_iter) or scale the data as shown in:\n",
            "    https://scikit-learn.org/stable/modules/preprocessing.html\n",
            "Please also refer to the documentation for alternative solver options:\n",
            "    https://scikit-learn.org/stable/modules/linear_model.html#logistic-regression\n",
            "  n_iter_i = _check_optimize_result(\n"
          ]
        },
        {
          "output_type": "execute_result",
          "data": {
            "text/plain": [
              "array(['watermelon', 'watermelon', 'grapes', 'chickpea', 'blackgram',\n",
              "       'jute', 'mothbeans', 'kidneybeans', 'muskmelon', 'banana',\n",
              "       'mothbeans', 'coffee', 'lentil', 'mungbean', 'mango', 'apple',\n",
              "       'coffee', 'lentil', 'coffee', 'mango', 'coconut', 'blackgram',\n",
              "       'kidneybeans', 'jute', 'cotton', 'coffee', 'lentil', 'orange',\n",
              "       'mothbeans', 'kidneybeans', 'pomegranate', 'rice', 'maize',\n",
              "       'muskmelon', 'coconut', 'cotton', 'mango', 'mango', 'watermelon',\n",
              "       'mothbeans', 'maize', 'blackgram', 'pigeonpeas', 'watermelon',\n",
              "       'pigeonpeas', 'mungbean', 'kidneybeans', 'kidneybeans', 'cotton',\n",
              "       'mungbean', 'mothbeans', 'blackgram', 'apple', 'muskmelon',\n",
              "       'pigeonpeas', 'banana', 'papaya', 'mango', 'lentil', 'cotton',\n",
              "       'orange', 'mungbean', 'watermelon', 'rice', 'muskmelon', 'apple',\n",
              "       'grapes', 'coffee', 'apple', 'orange', 'coconut', 'pomegranate',\n",
              "       'kidneybeans', 'maize', 'grapes', 'mothbeans', 'chickpea', 'maize',\n",
              "       'jute', 'mango', 'rice', 'mothbeans', 'watermelon', 'watermelon',\n",
              "       'muskmelon', 'cotton', 'maize', 'lentil', 'mothbeans', 'papaya',\n",
              "       'blackgram', 'jute', 'mungbean', 'grapes', 'mungbean', 'maize',\n",
              "       'coffee', 'jute', 'lentil', 'chickpea', 'orange', 'jute',\n",
              "       'mungbean', 'banana', 'banana', 'rice', 'watermelon', 'coffee',\n",
              "       'pigeonpeas', 'muskmelon', 'muskmelon', 'mango', 'coffee',\n",
              "       'grapes', 'orange', 'pomegranate', 'mungbean', 'lentil', 'maize',\n",
              "       'jute', 'pomegranate', 'lentil', 'orange', 'chickpea', 'chickpea',\n",
              "       'blackgram', 'pomegranate', 'orange', 'chickpea', 'papaya',\n",
              "       'mothbeans', 'blackgram', 'muskmelon', 'mungbean', 'cotton',\n",
              "       'mungbean', 'coconut', 'pomegranate', 'orange', 'blackgram',\n",
              "       'lentil', 'grapes', 'apple', 'coffee', 'chickpea', 'apple', 'jute',\n",
              "       'mango', 'watermelon', 'papaya', 'orange', 'coconut', 'mothbeans',\n",
              "       'banana', 'pomegranate', 'chickpea', 'watermelon', 'maize',\n",
              "       'apple', 'jute', 'lentil', 'pigeonpeas', 'jute', 'kidneybeans',\n",
              "       'kidneybeans', 'muskmelon', 'rice', 'muskmelon', 'banana',\n",
              "       'orange', 'pigeonpeas', 'apple', 'mothbeans', 'coconut', 'cotton',\n",
              "       'mungbean', 'kidneybeans', 'pomegranate', 'papaya', 'orange',\n",
              "       'rice', 'papaya', 'papaya', 'pigeonpeas', 'kidneybeans', 'banana',\n",
              "       'coconut', 'pigeonpeas', 'rice', 'papaya', 'maize', 'jute',\n",
              "       'mothbeans', 'rice', 'maize', 'coffee', 'pigeonpeas', 'coconut',\n",
              "       'chickpea', 'mango', 'coconut', 'pomegranate', 'cotton',\n",
              "       'mothbeans', 'mothbeans', 'orange', 'muskmelon', 'maize',\n",
              "       'pigeonpeas', 'banana', 'chickpea', 'blackgram', 'pigeonpeas',\n",
              "       'orange', 'mothbeans', 'mungbean', 'mango', 'papaya', 'muskmelon',\n",
              "       'pomegranate', 'jute', 'rice', 'blackgram', 'papaya', 'blackgram',\n",
              "       'coffee', 'maize', 'coffee', 'orange', 'rice', 'mothbeans',\n",
              "       'mungbean', 'orange', 'kidneybeans', 'pomegranate', 'coconut',\n",
              "       'mango', 'mungbean', 'cotton', 'rice', 'chickpea', 'mungbean',\n",
              "       'apple', 'pigeonpeas', 'mothbeans', 'rice', 'watermelon',\n",
              "       'blackgram', 'pomegranate', 'orange', 'maize', 'grapes',\n",
              "       'chickpea', 'pigeonpeas', 'jute', 'papaya', 'pomegranate',\n",
              "       'coffee', 'mango', 'mothbeans', 'jute', 'watermelon',\n",
              "       'pomegranate', 'rice', 'grapes', 'coconut', 'jute', 'lentil',\n",
              "       'chickpea', 'coffee', 'coffee', 'papaya', 'pomegranate', 'maize',\n",
              "       'rice', 'chickpea', 'pigeonpeas', 'orange', 'pomegranate',\n",
              "       'pigeonpeas', 'coconut', 'kidneybeans', 'pomegranate', 'muskmelon',\n",
              "       'mothbeans', 'mango', 'lentil', 'banana', 'blackgram', 'mango',\n",
              "       'kidneybeans', 'mango', 'cotton', 'mungbean', 'papaya', 'grapes',\n",
              "       'grapes', 'pigeonpeas', 'papaya', 'jute', 'rice', 'chickpea',\n",
              "       'muskmelon', 'coffee', 'watermelon', 'jute', 'jute', 'mothbeans',\n",
              "       'grapes', 'muskmelon', 'blackgram', 'mothbeans', 'mothbeans',\n",
              "       'chickpea', 'blackgram', 'mango', 'banana', 'mango', 'pomegranate',\n",
              "       'jute', 'orange', 'muskmelon', 'chickpea', 'lentil', 'cotton',\n",
              "       'papaya', 'grapes', 'kidneybeans', 'lentil', 'apple', 'rice',\n",
              "       'muskmelon', 'apple', 'papaya', 'blackgram', 'jute', 'chickpea',\n",
              "       'mothbeans', 'lentil', 'grapes', 'jute', 'kidneybeans',\n",
              "       'muskmelon', 'papaya', 'grapes', 'papaya', 'rice', 'coffee',\n",
              "       'muskmelon', 'mothbeans', 'banana', 'papaya', 'orange',\n",
              "       'kidneybeans', 'watermelon', 'pigeonpeas', 'apple', 'watermelon',\n",
              "       'watermelon', 'pigeonpeas', 'kidneybeans', 'blackgram',\n",
              "       'kidneybeans', 'jute', 'coconut', 'cotton', 'kidneybeans',\n",
              "       'orange', 'cotton', 'pigeonpeas', 'pomegranate', 'cotton',\n",
              "       'cotton', 'apple', 'cotton', 'apple', 'orange', 'maize', 'grapes',\n",
              "       'banana', 'apple', 'mothbeans', 'rice', 'kidneybeans', 'banana',\n",
              "       'jute', 'lentil', 'chickpea', 'pomegranate', 'banana', 'chickpea',\n",
              "       'muskmelon', 'pomegranate', 'apple', 'lentil', 'muskmelon',\n",
              "       'orange', 'blackgram', 'muskmelon', 'mothbeans', 'mango',\n",
              "       'chickpea', 'pomegranate', 'mango', 'chickpea', 'coconut',\n",
              "       'muskmelon', 'banana', 'pigeonpeas', 'papaya', 'jute', 'blackgram',\n",
              "       'cotton', 'rice', 'banana', 'coconut', 'rice', 'blackgram',\n",
              "       'maize', 'orange', 'watermelon', 'rice', 'apple', 'grapes',\n",
              "       'pigeonpeas', 'grapes', 'chickpea', 'mango', 'jute', 'pomegranate',\n",
              "       'maize', 'mango', 'grapes', 'banana', 'mungbean', 'pigeonpeas',\n",
              "       'banana', 'cotton', 'blackgram', 'apple'], dtype=object)"
            ]
          },
          "metadata": {},
          "execution_count": 52
        }
      ]
    },
    {
      "cell_type": "code",
      "source": [
        "#Evaluating the model performance"
      ],
      "metadata": {
        "id": "SxY_UW0x3woo"
      },
      "execution_count": null,
      "outputs": []
    },
    {
      "cell_type": "code",
      "source": [
        "from sklearn.metrics import confusion_matrix\n",
        "\n",
        "plt.rcParams['figure.figsize'] = (10,10)\n",
        "cm = confusion_matrix(y_test, y_pred)\n",
        "sns.heatmap(cm, annot = True, cmap = 'Wistia')\n",
        "plt.title('Confusion Matrix For Logistic Regression', fontsize = 15)\n",
        "plt.show()\n"
      ],
      "metadata": {
        "id": "Rbj-wBTrnYHH",
        "outputId": "5a8ad7ab-d081-48ac-ae07-a50287c6f8fb",
        "colab": {
          "base_uri": "https://localhost:8080/",
          "height": 609
        }
      },
      "execution_count": null,
      "outputs": [
        {
          "output_type": "display_data",
          "data": {
            "text/plain": [
              "<Figure size 720x720 with 2 Axes>"
            ],
            "image/png": "[encoded data removed]"
          },
          "metadata": {
            "needs_background": "light"
          }
        }
      ]
    },
    {
      "cell_type": "code",
      "source": [
        "#Defining the classification Report\n",
        "from sklearn.metrics import classification_report\n",
        "\n",
        "cr = classification_report(y_test, y_pred)\n",
        "print(cr)\n"
      ],
      "metadata": {
        "id": "j_7pDtD73zbf",
        "outputId": "586c6b23-028a-4bb5-c408-0ab99c81b9cb",
        "colab": {
          "base_uri": "https://localhost:8080/"
        }
      },
      "execution_count": null,
      "outputs": [
        {
          "output_type": "stream",
          "name": "stdout",
          "text": [
            "              precision    recall  f1-score   support\n",
            "\n",
            "       apple       1.00      1.00      1.00        18\n",
            "      banana       1.00      1.00      1.00        18\n",
            "   blackgram       0.86      0.82      0.84        22\n",
            "    chickpea       1.00      1.00      1.00        23\n",
            "     coconut       1.00      1.00      1.00        15\n",
            "      coffee       1.00      1.00      1.00        17\n",
            "      cotton       0.89      1.00      0.94        16\n",
            "      grapes       1.00      1.00      1.00        18\n",
            "        jute       0.84      1.00      0.91        21\n",
            " kidneybeans       1.00      1.00      1.00        20\n",
            "      lentil       0.94      0.94      0.94        17\n",
            "       maize       0.94      0.89      0.91        18\n",
            "       mango       1.00      1.00      1.00        21\n",
            "   mothbeans       0.88      0.92      0.90        25\n",
            "    mungbean       1.00      1.00      1.00        17\n",
            "   muskmelon       1.00      1.00      1.00        23\n",
            "      orange       1.00      1.00      1.00        23\n",
            "      papaya       1.00      0.95      0.98        21\n",
            "  pigeonpeas       1.00      1.00      1.00        22\n",
            " pomegranate       1.00      1.00      1.00        23\n",
            "        rice       1.00      0.84      0.91        25\n",
            "  watermelon       1.00      1.00      1.00        17\n",
            "\n",
            "    accuracy                           0.97       440\n",
            "   macro avg       0.97      0.97      0.97       440\n",
            "weighted avg       0.97      0.97      0.97       440\n",
            "\n"
          ]
        }
      ]
    },
    {
      "cell_type": "code",
      "source": [
        "data.head()"
      ],
      "metadata": {
        "id": "cfLYCg_FoIv7",
        "outputId": "fafa7d97-5ab2-4f16-cbc0-2d8a254491bc",
        "colab": {
          "base_uri": "https://localhost:8080/",
          "height": 206
        }
      },
      "execution_count": null,
      "outputs": [
        {
          "output_type": "execute_result",
          "data": {
            "text/plain": [
              "    N   P   K  temperature   humidity        ph    rainfall label\n",
              "0  90  42  43    20.879744  82.002744  6.502985  202.935536  rice\n",
              "1  85  58  41    21.770462  80.319644  7.038096  226.655537  rice\n",
              "2  60  55  44    23.004459  82.320763  7.840207  263.964248  rice\n",
              "3  74  35  40    26.491096  80.158363  6.980401  242.864034  rice\n",
              "4  78  42  42    20.130175  81.604873  7.628473  262.717340  rice"
            ],
            "text/html": [
              "\n",
              "  <div id=\"df-80d4c2a3-0ca5-4bb9-9b50-c68e1c166cdd\">\n",
              "    <div class=\"colab-df-container\">\n",
              "      <div>\n",
              "<style scoped>\n",
              "    .dataframe tbody tr th:only-of-type {\n",
              "        vertical-align: middle;\n",
              "    }\n",
              "\n",
              "    .dataframe tbody tr th {\n",
              "        vertical-align: top;\n",
              "    }\n",
              "\n",
              "    .dataframe thead th {\n",
              "        text-align: right;\n",
              "    }\n",
              "</style>\n",
              "<table border=\"1\" class=\"dataframe\">\n",
              "  <thead>\n",
              "    <tr style=\"text-align: right;\">\n",
              "      <th></th>\n",
              "      <th>N</th>\n",
              "      <th>P</th>\n",
              "      <th>K</th>\n",
              "      <th>temperature</th>\n",
              "      <th>humidity</th>\n",
              "      <th>ph</th>\n",
              "      <th>rainfall</th>\n",
              "      <th>label</th>\n",
              "    </tr>\n",
              "  </thead>\n",
              "  <tbody>\n",
              "    <tr>\n",
              "      <th>0</th>\n",
              "      <td>90</td>\n",
              "      <td>42</td>\n",
              "      <td>43</td>\n",
              "      <td>20.879744</td>\n",
              "      <td>82.002744</td>\n",
              "      <td>6.502985</td>\n",
              "      <td>202.935536</td>\n",
              "      <td>rice</td>\n",
              "    </tr>\n",
              "    <tr>\n",
              "      <th>1</th>\n",
              "      <td>85</td>\n",
              "      <td>58</td>\n",
              "      <td>41</td>\n",
              "      <td>21.770462</td>\n",
              "      <td>80.319644</td>\n",
              "      <td>7.038096</td>\n",
              "      <td>226.655537</td>\n",
              "      <td>rice</td>\n",
              "    </tr>\n",
              "    <tr>\n",
              "      <th>2</th>\n",
              "      <td>60</td>\n",
              "      <td>55</td>\n",
              "      <td>44</td>\n",
              "      <td>23.004459</td>\n",
              "      <td>82.320763</td>\n",
              "      <td>7.840207</td>\n",
              "      <td>263.964248</td>\n",
              "      <td>rice</td>\n",
              "    </tr>\n",
              "    <tr>\n",
              "      <th>3</th>\n",
              "      <td>74</td>\n",
              "      <td>35</td>\n",
              "      <td>40</td>\n",
              "      <td>26.491096</td>\n",
              "      <td>80.158363</td>\n",
              "      <td>6.980401</td>\n",
              "      <td>242.864034</td>\n",
              "      <td>rice</td>\n",
              "    </tr>\n",
              "    <tr>\n",
              "      <th>4</th>\n",
              "      <td>78</td>\n",
              "      <td>42</td>\n",
              "      <td>42</td>\n",
              "      <td>20.130175</td>\n",
              "      <td>81.604873</td>\n",
              "      <td>7.628473</td>\n",
              "      <td>262.717340</td>\n",
              "      <td>rice</td>\n",
              "    </tr>\n",
              "  </tbody>\n",
              "</table>\n",
              "</div>\n",
              "      <button class=\"colab-df-convert\" onclick=\"convertToInteractive('df-80d4c2a3-0ca5-4bb9-9b50-c68e1c166cdd')\"\n",
              "              title=\"Convert this dataframe to an interactive table.\"\n",
              "              style=\"display:none;\">\n",
              "        \n",
              "  <svg xmlns=\"http://www.w3.org/2000/svg\" height=\"24px\"viewBox=\"0 0 24 24\"\n",
              "       width=\"24px\">\n",
              "    <path d=\"M0 0h24v24H0V0z\" fill=\"none\"/>\n",
              "    <path d=\"M18.56 5.44l.94 2.06.94-2.06 2.06-.94-2.06-.94-.94-2.06-.94 2.06-2.06.94zm-11 1L8.5 8.5l.94-2.06 2.06-.94-2.06-.94L8.5 2.5l-.94 2.06-2.06.94zm10 10l.94 2.06.94-2.06 2.06-.94-2.06-.94-.94-2.06-.94 2.06-2.06.94z\"/><path d=\"M17.41 7.96l-1.37-1.37c-.4-.4-.92-.59-1.43-.59-.52 0-1.04.2-1.43.59L10.3 9.45l-7.72 7.72c-.78.78-.78 2.05 0 2.83L4 21.41c.39.39.9.59 1.41.59.51 0 1.02-.2 1.41-.59l7.78-7.78 2.81-2.81c.8-.78.8-2.07 0-2.86zM5.41 20L4 18.59l7.72-7.72 1.47 1.35L5.41 20z\"/>\n",
              "  </svg>\n",
              "      </button>\n",
              "      \n",
              "  <style>\n",
              "    .colab-df-container {\n",
              "      display:flex;\n",
              "      flex-wrap:wrap;\n",
              "      gap: 12px;\n",
              "    }\n",
              "\n",
              "    .colab-df-convert {\n",
              "      background-color: #E8F0FE;\n",
              "      border: none;\n",
              "      border-radius: 50%;\n",
              "      cursor: pointer;\n",
              "      display: none;\n",
              "      fill: #1967D2;\n",
              "      height: 32px;\n",
              "      padding: 0 0 0 0;\n",
              "      width: 32px;\n",
              "    }\n",
              "\n",
              "    .colab-df-convert:hover {\n",
              "      background-color: #E2EBFA;\n",
              "      box-shadow: 0px 1px 2px rgba(60, 64, 67, 0.3), 0px 1px 3px 1px rgba(60, 64, 67, 0.15);\n",
              "      fill: #174EA6;\n",
              "    }\n",
              "\n",
              "    [theme=dark] .colab-df-convert {\n",
              "      background-color: #3B4455;\n",
              "      fill: #D2E3FC;\n",
              "    }\n",
              "\n",
              "    [theme=dark] .colab-df-convert:hover {\n",
              "      background-color: #434B5C;\n",
              "      box-shadow: 0px 1px 3px 1px rgba(0, 0, 0, 0.15);\n",
              "      filter: drop-shadow(0px 1px 2px rgba(0, 0, 0, 0.3));\n",
              "      fill: #FFFFFF;\n",
              "    }\n",
              "  </style>\n",
              "\n",
              "      <script>\n",
              "        const buttonEl =\n",
              "          document.querySelector('#df-80d4c2a3-0ca5-4bb9-9b50-c68e1c166cdd button.colab-df-convert');\n",
              "        buttonEl.style.display =\n",
              "          google.colab.kernel.accessAllowed ? 'block' : 'none';\n",
              "\n",
              "        async function convertToInteractive(key) {\n",
              "          const element = document.querySelector('#df-80d4c2a3-0ca5-4bb9-9b50-c68e1c166cdd');\n",
              "          const dataTable =\n",
              "            await google.colab.kernel.invokeFunction('convertToInteractive',\n",
              "                                                     [key], {});\n",
              "          if (!dataTable) return;\n",
              "\n",
              "          const docLinkHtml = 'Like what you see? Visit the ' +\n",
              "            '<a target=\"_blank\" href=https://colab.research.google.com/notebooks/data_table.ipynb>data table notebook</a>'\n",
              "            + ' to learn more about interactive tables.';\n",
              "          element.innerHTML = '';\n",
              "          dataTable['output_type'] = 'display_data';\n",
              "          await google.colab.output.renderOutput(dataTable, element);\n",
              "          const docLink = document.createElement('div');\n",
              "          docLink.innerHTML = docLinkHtml;\n",
              "          element.appendChild(docLink);\n",
              "        }\n",
              "      </script>\n",
              "    </div>\n",
              "  </div>\n",
              "  "
            ]
          },
          "metadata": {},
          "execution_count": 58
        }
      ]
    },
    {
      "cell_type": "code",
      "source": [
        "\n",
        "prediction = model.predict((np.array([[90, 40, 40, 20, 80, 7, 200]])))\n",
        "\n",
        "print(\"The Suggested Crop for given climatic condition is :\",prediction)\n"
      ],
      "metadata": {
        "id": "gAwuhNuo4FtN",
        "outputId": "8fbecfff-2ccf-44ca-9409-0372a7d40e71",
        "colab": {
          "base_uri": "https://localhost:8080/"
        }
      },
      "execution_count": null,
      "outputs": [
        {
          "output_type": "stream",
          "name": "stdout",
          "text": [
            "The Suggested Crop for given climatic condition is : ['rice']\n"
          ]
        },
        {
          "output_type": "stream",
          "name": "stderr",
          "text": [
            "/usr/local/lib/python3.8/dist-packages/sklearn/base.py:450: UserWarning: X does not have valid feature names, but LogisticRegression was fitted with feature names\n",
            "  warnings.warn(\n"
          ]
        }
      ]
    },
    {
      "cell_type": "code",
      "source": [],
      "metadata": {
        "id": "3v7RzdMK4NAI"
      },
      "execution_count": null,
      "outputs": []
    }
  ]
}